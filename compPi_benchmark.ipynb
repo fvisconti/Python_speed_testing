{
 "cells": [
  {
   "cell_type": "code",
   "execution_count": 13,
   "metadata": {
    "collapsed": false
   },
   "outputs": [],
   "source": [
    "from numba import jit, vectorize, int32, float32\n",
    "import ctypes\n",
    "import numpy as np\n",
    "import time\n",
    "%matplotlib inline\n",
    "import matplotlib.pyplot as plt"
   ]
  },
  {
   "cell_type": "code",
   "execution_count": null,
   "metadata": {
    "collapsed": true
   },
   "outputs": [],
   "source": [
    "# Python function to compute pi"
   ]
  },
  {
   "cell_type": "code",
   "execution_count": 14,
   "metadata": {
    "collapsed": true
   },
   "outputs": [],
   "source": [
    "def f(x):\n",
    "    return 4. / (1. + x * x)"
   ]
  },
  {
   "cell_type": "code",
   "execution_count": 15,
   "metadata": {
    "collapsed": true
   },
   "outputs": [],
   "source": [
    "def compPi(niter=10000000):\n",
    "    h = 1. / niter\n",
    "    pi = 0.\n",
    "    for i in range(niter):\n",
    "        x = h * (i - 0.5)\n",
    "        pi += f(x)\n",
    "    error = abs(np.arccos(-1.) - pi * h) / np.arccos(-1.)\n",
    "    return pi * h, error"
   ]
  },
  {
   "cell_type": "code",
   "execution_count": null,
   "metadata": {
    "collapsed": true
   },
   "outputs": [],
   "source": [
    "# The Just-In-Time-compiled version"
   ]
  },
  {
   "cell_type": "code",
   "execution_count": 16,
   "metadata": {
    "collapsed": true
   },
   "outputs": [],
   "source": [
    "@jit(float32(float32), nogil=True)\n",
    "def f_numba(x):\n",
    "    return 4. / (1. + x * x)"
   ]
  },
  {
   "cell_type": "code",
   "execution_count": 17,
   "metadata": {
    "collapsed": true
   },
   "outputs": [],
   "source": [
    "@jit(float32(int32), nogil=True)\n",
    "def compPi_numba(niter):\n",
    "    h = 1. / niter\n",
    "    pi = 0.\n",
    "    for i in range(niter):\n",
    "        x = h * (i - 0.5)\n",
    "        pi += f_numba(x)\n",
    "    error = abs(np.arccos(-1.) - pi * h) / np.arccos(-1.)\n",
    "    return pi * h, error"
   ]
  },
  {
   "cell_type": "code",
   "execution_count": 22,
   "metadata": {
    "collapsed": true
   },
   "outputs": [],
   "source": [
    "def main():\n",
    "    # import the C library\n",
    "    mylib = ctypes.CDLL('pi_c.so')\n",
    "    # declare result type: default is int\n",
    "    mylib.compPi_ctypes.restype = ctypes.c_double\n",
    "    # declare arguments type\n",
    "    pi = ctypes.c_double(0.)\n",
    "    # niter = ctypes.c_int(1000)\n",
    "\n",
    "    numIter = [1000, 10000, 100000, 1000000, 10000000]\n",
    "\n",
    "    for i in numIter:\n",
    "        print(\"\\nn iter: {}\".format(i))\n",
    "        # Numba\n",
    "        start = time.clock()\n",
    "        compPi_numba(i)\n",
    "        stop = time.clock()\n",
    "        numba_time = stop - start\n",
    "        print(\"numba function takes: {}\".format(numba_time))\n",
    "\n",
    "        # Ctype\n",
    "        niter = ctypes.c_int(i)\n",
    "        start = time.clock()\n",
    "        mylib.compPi_ctypes(pi, niter)\n",
    "        stop = time.clock()\n",
    "        c_time = stop - start\n",
    "        print(\"time for c version: {}\".format(c_time))\n",
    "\n",
    "        # Pure Python\n",
    "        start = time.clock()\n",
    "        compPi(i)\n",
    "        stop = time.clock()\n",
    "        nonumba_time = stop - start\n",
    "        print(\"Pure Python function takes: {}\".format(nonumba_time))\n",
    "\n",
    "        with open('results_nogil.dat', 'a') as file:\n",
    "            file.write(str(i) + \"\\t\" + str(numba_time) +\n",
    "                       \"\\t\" + str(nonumba_time) +\n",
    "                       \"\\t\" + str(c_time) + \"\\n\")"
   ]
  },
  {
   "cell_type": "code",
   "execution_count": 28,
   "metadata": {
    "collapsed": false
   },
   "outputs": [
    {
     "name": "stdout",
     "output_type": "stream",
     "text": [
      "\n",
      "n iter: 1000\n",
      "numba function takes: 0.00010999999999938836\n",
      "time for c version: 0.00023600000000101318\n",
      "Pure Python function takes: 0.0011790000000004852\n",
      "\n",
      "n iter: 10000\n",
      "numba function takes: 0.00025099999999866895\n",
      "time for c version: 0.000332000000000221\n",
      "Pure Python function takes: 0.005340999999994267\n",
      "\n",
      "n iter: 100000\n",
      "numba function takes: 0.0012760000000042737\n",
      "time for c version: 0.0015679999999989036\n",
      "Pure Python function takes: 0.051225000000002296\n",
      "\n",
      "n iter: 1000000\n",
      "numba function takes: 0.008468000000000586\n",
      "time for c version: 0.009128000000004022\n",
      "Pure Python function takes: 0.46311099999999783\n",
      "\n",
      "n iter: 10000000\n",
      "numba function takes: 0.0726230000000001\n",
      "time for c version: 0.14945299999999406\n",
      "Pure Python function takes: 4.812451000000003\n"
     ]
    }
   ],
   "source": [
    "main()"
   ]
  },
  {
   "cell_type": "code",
   "execution_count": 29,
   "metadata": {
    "collapsed": false
   },
   "outputs": [
    {
     "data": {
      "text/plain": [
       "<matplotlib.text.Text at 0x10f1e50f0>"
      ]
     },
     "execution_count": 29,
     "metadata": {},
     "output_type": "execute_result"
    },
    {
     "data": {
      "image/png": "[encoded data removed]",
      "text/plain": [
       "<matplotlib.figure.Figure at 0x10fdab828>"
      ]
     },
     "metadata": {},
     "output_type": "display_data"
    }
   ],
   "source": [
    "x, y, z, w = np.loadtxt('results_nogil.dat', delimiter='\\t', unpack=True)\n",
    "\n",
    "plt.plot(x, y, 'r.-', label = 'numba function')\n",
    "plt.plot(x, z, 'b.-', label = 'python function')\n",
    "plt.plot(x, w, 'g.-', label = 'ctype function')\n",
    "plt.ylabel('time (s)')\n",
    "plt.xlabel('n iterations')\n",
    "plt.yscale('log')\n",
    "plt.xscale('log')\n",
    "plt.legend(loc='lower right')\n",
    "plt.grid(True)\n",
    "plt.title('pi computation')"
   ]
  },
  {
   "cell_type": "code",
   "execution_count": null,
   "metadata": {
    "collapsed": true
   },
   "outputs": [],
   "source": []
  }
 ],
 "metadata": {
  "anaconda-cloud": {},
  "kernelspec": {
   "display_name": "Python [conda root]",
   "language": "python",
   "name": "conda-root-py"
  },
  "language_info": {
   "codemirror_mode": {
    "name": "ipython",
    "version": 3
   },
   "file_extension": ".py",
   "mimetype": "text/x-python",
   "name": "python",
   "nbconvert_exporter": "python",
   "pygments_lexer": "ipython3",
   "version": "3.5.2"
  }
 },
 "nbformat": 4,
 "nbformat_minor": 0
}
